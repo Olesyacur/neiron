{
 "cells": [
  {
   "cell_type": "code",
   "execution_count": 4,
   "metadata": {},
   "outputs": [
    {
     "name": "stdout",
     "output_type": "stream",
     "text": [
      "имя собаки:  Lassie\n",
      "температура собаки:  37\n"
     ]
    }
   ],
   "source": [
    "# определение класса объектов Dog\n",
    "class Dog:\n",
    "    # метод для инициализации объекта внутренними данными\n",
    "    def __init__(self, petname, temp):\n",
    "        self.name = petname\n",
    "        self.temperature = temp\n",
    "    \n",
    "    # получить состояние\n",
    "    def status(self):\n",
    "        print(\"имя собаки: \", self.name)\n",
    "        print(\"температура собаки: \", self.temperature)\n",
    "        pass\n",
    "    # задать температуру\n",
    "    def setTemperature(self, temp):\n",
    "        self.temperature = temp\n",
    "        pass\n",
    "    # собаки могут лаять\n",
    "    def bark(self):\n",
    "        print('Гав!')\n",
    "        pass\n",
    "    pass\n",
    "\n",
    "# создать новый объект собаки на основе класса Dog\n",
    "lassie = Dog(\"Lassie\", 37)\n",
    "lassie.status()\n"
   ]
  }
 ],
 "metadata": {
  "kernelspec": {
   "display_name": "venv",
   "language": "python",
   "name": "python3"
  },
  "language_info": {
   "codemirror_mode": {
    "name": "ipython",
    "version": 3
   },
   "file_extension": ".py",
   "mimetype": "text/x-python",
   "name": "python",
   "nbconvert_exporter": "python",
   "pygments_lexer": "ipython3",
   "version": "3.11.1"
  },
  "orig_nbformat": 4
 },
 "nbformat": 4,
 "nbformat_minor": 2
}
